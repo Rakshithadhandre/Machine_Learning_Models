{
  "nbformat": 4,
  "nbformat_minor": 0,
  "metadata": {
    "colab": {
      "provenance": [],
      "authorship_tag": "ABX9TyOwDxT4VxF9CrAkGeQ6Z6Um",
      "include_colab_link": true
    },
    "kernelspec": {
      "name": "python3",
      "display_name": "Python 3"
    },
    "language_info": {
      "name": "python"
    }
  },
  "cells": [
    {
      "cell_type": "markdown",
      "metadata": {
        "id": "view-in-github",
        "colab_type": "text"
      },
      "source": [
        "<a href=\"https://colab.research.google.com/github/Rakshithadhandre/Machine_Learning_Models/blob/main/Outliers.ipynb\" target=\"_parent\"><img src=\"https://colab.research.google.com/assets/colab-badge.svg\" alt=\"Open In Colab\"/></a>"
      ]
    },
    {
      "cell_type": "code",
      "execution_count": 2,
      "metadata": {
        "id": "7R7uboOJJC5w"
      },
      "outputs": [],
      "source": [
        "import numpy as np\n",
        "import pandas as pd\n",
        "import matplotlib.pyplot as plt\n",
        "import seaborn as sns"
      ]
    },
    {
      "cell_type": "code",
      "source": [
        "dataset = [5,23,16,54,5,20,10,2,7,3,18]\n",
        "dataset = sorted(dataset)\n",
        "dataset\n",
        "     "
      ],
      "metadata": {
        "colab": {
          "base_uri": "https://localhost:8080/"
        },
        "id": "xRvZVL1mJEyH",
        "outputId": "3265028d-0767-4b6d-963c-9cdb63be75d9"
      },
      "execution_count": 1,
      "outputs": [
        {
          "output_type": "execute_result",
          "data": {
            "text/plain": [
              "[2, 3, 5, 5, 7, 10, 16, 18, 20, 23, 54]"
            ]
          },
          "metadata": {},
          "execution_count": 1
        }
      ]
    },
    {
      "cell_type": "code",
      "source": [
        "quantile1, quantile3= np.percentile(dataset,[23,60])"
      ],
      "metadata": {
        "id": "9AAhenKLJHrm"
      },
      "execution_count": 14,
      "outputs": []
    },
    {
      "cell_type": "code",
      "source": [
        "np.percentile(dataset,[30])"
      ],
      "metadata": {
        "colab": {
          "base_uri": "https://localhost:8080/"
        },
        "id": "j57g-x-7JK6a",
        "outputId": "762d3c0f-de0d-4b63-81e9-62cd5d1e28c4"
      },
      "execution_count": 15,
      "outputs": [
        {
          "output_type": "execute_result",
          "data": {
            "text/plain": [
              "array([5.])"
            ]
          },
          "metadata": {},
          "execution_count": 15
        }
      ]
    },
    {
      "cell_type": "code",
      "source": [
        "print(quantile1,quantile3)"
      ],
      "metadata": {
        "colab": {
          "base_uri": "https://localhost:8080/"
        },
        "id": "UYkgV7qUJNMY",
        "outputId": "1d839f27-2651-400b-8173-06e069007d20"
      },
      "execution_count": 16,
      "outputs": [
        {
          "output_type": "stream",
          "name": "stdout",
          "text": [
            "5.0 16.0\n"
          ]
        }
      ]
    },
    {
      "cell_type": "code",
      "source": [
        "iqr_value=quantile3-quantile1\n",
        "print(iqr_value)"
      ],
      "metadata": {
        "colab": {
          "base_uri": "https://localhost:8080/"
        },
        "id": "Mapi9Q63JSVN",
        "outputId": "a2fface3-2654-4858-8389-96fe4301ed07"
      },
      "execution_count": 17,
      "outputs": [
        {
          "output_type": "stream",
          "name": "stdout",
          "text": [
            "11.0\n"
          ]
        }
      ]
    },
    {
      "cell_type": "code",
      "source": [
        "lower_bound_val = quantile1 -(1.5 * iqr_value) \n",
        "upper_bound_val = quantile3 +(1.5 * iqr_value) \n",
        "     "
      ],
      "metadata": {
        "id": "5Ej3gi3WJUb6"
      },
      "execution_count": 18,
      "outputs": []
    },
    {
      "cell_type": "code",
      "source": [
        "print(lower_bound_val,upper_bound_val)"
      ],
      "metadata": {
        "colab": {
          "base_uri": "https://localhost:8080/"
        },
        "id": "eJNy7VgCJW_1",
        "outputId": "42f36387-7f4b-4430-d3c3-4cd98bec3a87"
      },
      "execution_count": 19,
      "outputs": [
        {
          "output_type": "stream",
          "name": "stdout",
          "text": [
            "-11.5 32.5\n"
          ]
        }
      ]
    },
    {
      "cell_type": "code",
      "source": [
        "outliers = []\n",
        "for i in dataset:\n",
        "    if (i < lower_bound_val) | (i > upper_bound_val):\n",
        "        outliers.append(i)\n",
        "outliers"
      ],
      "metadata": {
        "colab": {
          "base_uri": "https://localhost:8080/"
        },
        "id": "Kb91sTXIJZYo",
        "outputId": "bad858ce-adae-4d03-97b0-8376dda36eef"
      },
      "execution_count": 20,
      "outputs": [
        {
          "output_type": "execute_result",
          "data": {
            "text/plain": [
              "[54]"
            ]
          },
          "metadata": {},
          "execution_count": 20
        }
      ]
    },
    {
      "cell_type": "markdown",
      "source": [
        "**Outliers Data point that falls outside of 1.5 times of an interquartile range above the 3rd quartile and below the 1st quartile. Data point that falls outside of 3 standard deviations. An outlier has to satisfy either of the following two conditions: outlier < Q1 - 1.5(IQR) outlier > Q3 + 1.5(IQR)**"
      ],
      "metadata": {
        "id": "4WPULDsNKma6"
      }
    }
  ]
}